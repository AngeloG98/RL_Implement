{
 "cells": [
  {
   "cell_type": "markdown",
   "metadata": {},
   "source": [
    "# Gym"
   ]
  },
  {
   "cell_type": "markdown",
   "metadata": {},
   "source": [
    "#### 0.安装Gym："
   ]
  },
  {
   "cell_type": "code",
   "execution_count": null,
   "metadata": {},
   "outputs": [],
   "source": [
    "pip install gym"
   ]
  },
  {
   "cell_type": "markdown",
   "metadata": {},
   "source": [
    "#### 1.调用Gym内置环境："
   ]
  },
  {
   "cell_type": "code",
   "execution_count": 8,
   "metadata": {},
   "outputs": [],
   "source": [
    "import gym\n",
    "env = gym.make('CartPole-v0')\n",
    "env.reset()\n",
    "for _ in range(100):\n",
    "    env.render()\n",
    "    env.step(env.action_space.sample()) # take a random action\n",
    "env.close()"
   ]
  },
  {
   "cell_type": "markdown",
   "metadata": {},
   "source": [
    "#### 2.自定义环境："
   ]
  },
  {
   "cell_type": "markdown",
   "metadata": {},
   "source": [
    "搭建一个5X5的网格环境gridworld.py，放到gym\\envs\\classic_control路径下\n",
    "- termianl包括终点和陷阱，修改`self.terminal_rewards`即可修改地图\n",
    "- 使用`set_state()`设置当前状态点"
   ]
  },
  {
   "cell_type": "markdown",
   "metadata": {},
   "source": [
    "在gym\\envs\\classic_control下的初始化文件_init_.py中添加"
   ]
  },
  {
   "cell_type": "code",
   "execution_count": null,
   "metadata": {},
   "outputs": [],
   "source": [
    "from gym.envs.classic_control.gridworld import GridWorldEnv"
   ]
  },
  {
   "cell_type": "markdown",
   "metadata": {},
   "source": [
    "在gym\\envs下的初始化文件_init_.py中添加"
   ]
  },
  {
   "cell_type": "code",
   "execution_count": null,
   "metadata": {},
   "outputs": [],
   "source": [
    "register (\n",
    "    id= 'GridWorld-v0',\n",
    "    entry_point='gym.envs.classic_control:GridWorldEnv', \n",
    "    max_episode_steps=200, \n",
    "    reward_threshold=100.0,\n",
    ")"
   ]
  },
  {
   "cell_type": "markdown",
   "metadata": {},
   "source": [
    "在新版本的gym(>=0.2.0)中，classic_control中删掉了基于pyglet的rendering。上面的网格环境的环境渲染是基于旧版本gym的rendering的，只需在github中查找一下之前的rendering文件，并重新放到gym\\envs\\classic_control中即可"
   ]
  },
  {
   "cell_type": "markdown",
   "metadata": {},
   "source": [
    "调用GridWorld环境"
   ]
  },
  {
   "cell_type": "code",
   "execution_count": 12,
   "metadata": {},
   "outputs": [
    {
     "name": "stdout",
     "output_type": "stream",
     "text": [
      "init_state:25\n",
      "next_state:25, reward:-1, is_terminal:False\n",
      "next_state:25, reward:-1, is_terminal:False\n",
      "next_state:24, reward:-10, is_terminal:True\n",
      "next_state:24, reward:-10, is_terminal:True\n",
      "next_state:24, reward:-10, is_terminal:True\n"
     ]
    }
   ],
   "source": [
    "import gym\n",
    "import random\n",
    "\n",
    "env = gym.make('GridWorld-v0')\n",
    "env.reset()\n",
    "for _ in range(5):\n",
    "    env.render()\n",
    "    if _ == 0:\n",
    "        print(\"init_state:{}\".format(env.state))\n",
    "    next_state, reward, is_terminal,info = env.step(env.actions[int(random.random()*len(env.actions))]) # take a random action\n",
    "    print(\"next_state:{}, reward:{}, is_terminal:{}\".format(next_state, reward, is_terminal))\n",
    "env.close()"
   ]
  },
  {
   "cell_type": "markdown",
   "metadata": {},
   "source": [
    "在gym\\envs中_init_.py里的register设置了最大步长，如果想运行更多步的话将max_episode_steps改大，或者是在调用环境时unwrap一下"
   ]
  },
  {
   "cell_type": "code",
   "execution_count": null,
   "metadata": {},
   "outputs": [],
   "source": [
    "env = env.unwrapped"
   ]
  },
  {
   "cell_type": "markdown",
   "metadata": {},
   "source": [
    "#### 3.安装和使用gym/Atari环境(linux-ubuntu)："
   ]
  },
  {
   "cell_type": "markdown",
   "metadata": {},
   "source": [
    "在gym(>=0.2.0)中已经移除了atari的环境，可以通过另一个库进行安装，如何但也有方法可以在gym中使用  \n",
    "安装完gym之后，先添加gym中的atari环境"
   ]
  },
  {
   "cell_type": "code",
   "execution_count": null,
   "metadata": {},
   "outputs": [],
   "source": [
    "pip install gym[atari]"
   ]
  },
  {
   "cell_type": "markdown",
   "metadata": {},
   "source": [
    "然后安装第三方的atari库"
   ]
  },
  {
   "cell_type": "code",
   "execution_count": null,
   "metadata": {},
   "outputs": [],
   "source": [
    "pip install -f https://github.com/Kojoley/atari-py/releases atari_py"
   ]
  },
  {
   "cell_type": "markdown",
   "metadata": {},
   "source": [
    "最后安装rom-license"
   ]
  },
  {
   "cell_type": "code",
   "execution_count": null,
   "metadata": {},
   "outputs": [],
   "source": [
    "pip install \"gym[atari,accept-rom-license]\""
   ]
  },
  {
   "cell_type": "markdown",
   "metadata": {},
   "source": [
    "新版的gym基于pygame进行渲染，需要安装一下pygame"
   ]
  },
  {
   "cell_type": "code",
   "execution_count": null,
   "metadata": {},
   "outputs": [],
   "source": [
    "pip install pygame"
   ]
  },
  {
   "cell_type": "markdown",
   "metadata": {},
   "source": [
    "#### 4.安装gym/Box2D环境(linux-ubuntu)：\n",
    "Box2D"
   ]
  },
  {
   "cell_type": "code",
   "execution_count": null,
   "metadata": {},
   "outputs": [],
   "source": [
    "sudo apt-get install build-essential python-dev swig python-pygame"
   ]
  },
  {
   "cell_type": "code",
   "execution_count": null,
   "metadata": {},
   "outputs": [],
   "source": [
    "pip install Box2D\n",
    "pip3 install box2d box2d-kengz"
   ]
  }
 ],
 "metadata": {
  "interpreter": {
   "hash": "07efdcd4b820c98a756949507a4d29d7862823915ec7477944641bea022f4f62"
  },
  "kernelspec": {
   "display_name": "Python 3.8.5 64-bit ('base': conda)",
   "language": "python",
   "name": "python3"
  },
  "language_info": {
   "codemirror_mode": {
    "name": "ipython",
    "version": 3
   },
   "file_extension": ".py",
   "mimetype": "text/x-python",
   "name": "python",
   "nbconvert_exporter": "python",
   "pygments_lexer": "ipython3",
   "version": "3.9.7"
  },
  "orig_nbformat": 4
 },
 "nbformat": 4,
 "nbformat_minor": 2
}
