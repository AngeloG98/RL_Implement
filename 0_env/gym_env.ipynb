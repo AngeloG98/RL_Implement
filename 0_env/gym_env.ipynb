{
 "cells": [
  {
   "cell_type": "markdown",
   "metadata": {},
   "source": [
    "# Gym"
   ]
  },
  {
   "cell_type": "markdown",
   "metadata": {},
   "source": [
    "##### 1.调用环境："
   ]
  },
  {
   "cell_type": "code",
   "execution_count": null,
   "metadata": {},
   "outputs": [],
   "source": [
    "import gym\n",
    "env = gym.make('CartPole-v0')\n",
    "env.reset()\n",
    "for _ in range(100):\n",
    "    env.render()\n",
    "    env.step(env.action_space.sample()) # take a random action\n",
    "env.close()"
   ]
  },
  {
   "cell_type": "markdown",
   "metadata": {},
   "source": [
    "##### 2.自定义环境："
   ]
  },
  {
   "cell_type": "markdown",
   "metadata": {},
   "source": [
    "搭建一个5X5的网格环境gridworld.py，放到gym\\envs\\classic_control路径下\n",
    "- termianl包括终点和陷阱，修改`self.terminal_rewards`即可修改地图\n",
    "- 使用`set_state()`设置当前状态点"
   ]
  },
  {
   "cell_type": "markdown",
   "metadata": {},
   "source": [
    "在gym\\envs\\classic_control下的初始化文件_init_.py中添加"
   ]
  },
  {
   "cell_type": "code",
   "execution_count": null,
   "metadata": {},
   "outputs": [],
   "source": [
    "from gym.envs.classic_control.gridworld import GridWorldEnv\n"
   ]
  },
  {
   "cell_type": "markdown",
   "metadata": {},
   "source": [
    "在gym\\envs下的初始化文件_init_.py中添加"
   ]
  },
  {
   "cell_type": "code",
   "execution_count": null,
   "metadata": {},
   "outputs": [],
   "source": [
    "register (\n",
    "    id= 'GridWorld-v0',\n",
    "    entry_point='gym.envs.classic_control:GridWorldEnv', \n",
    "    max_episode_steps=200, \n",
    "    reward_threshold=100.0,\n",
    ")\n"
   ]
  },
  {
   "cell_type": "markdown",
   "metadata": {},
   "source": [
    "调用GridWorld环境"
   ]
  },
  {
   "cell_type": "code",
   "execution_count": null,
   "metadata": {},
   "outputs": [],
   "source": [
    "import gym\n",
    "import random\n",
    "\n",
    "env = gym.make('GridWorld-v0')\n",
    "env.reset()\n",
    "for _ in range(20):\n",
    "    env.render()\n",
    "    if _ == 0:\n",
    "        print(\"init_state:{}\".format(env.state))\n",
    "    next_state, reward, is_terminal,info = env.step(env.actions[int(random.random()*len(env.actions))]) # take a random action\n",
    "    print(\"next_state:{}, reward:{}, is_terminal:{}\".format(next_state, reward, is_terminal))\n",
    "env.close()"
   ]
  }
 ],
 "metadata": {
  "interpreter": {
   "hash": "07efdcd4b820c98a756949507a4d29d7862823915ec7477944641bea022f4f62"
  },
  "kernelspec": {
   "display_name": "Python 3.8.5 64-bit ('base': conda)",
   "language": "python",
   "name": "python3"
  },
  "language_info": {
   "codemirror_mode": {
    "name": "ipython",
    "version": 3
   },
   "file_extension": ".py",
   "mimetype": "text/x-python",
   "name": "python",
   "nbconvert_exporter": "python",
   "pygments_lexer": "ipython3",
   "version": "3.8.5"
  },
  "orig_nbformat": 4
 },
 "nbformat": 4,
 "nbformat_minor": 2
}
